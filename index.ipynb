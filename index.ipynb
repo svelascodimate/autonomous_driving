{
 "cells": [
  {
   "cell_type": "markdown",
   "metadata": {},
   "source": [
    "# Systematic Evaluation of Bugs in Software Defined Vehicles\n",
    "\n",
    "In the rapidly evolving landscape of transportation technology, Software Defined Vehicles (\\sdvs) promise enhanced safety, efficiency, and convenience. However, with their computing systems' heavy reliance on complex software stacks, SDVs also face significant challenges related to software bugs. Fixing and addressing software bugs, automatically assessing autonomous vehicles' behaviour correctness would directly improve reliability and safety of those vehicles. This study aims to create a systematic bug evaluation in SDVs to increase robustness of the software that is accelerating innovation on the road to full automation."
   ]
  },
  {
   "cell_type": "markdown",
   "metadata": {},
   "source": [
    "## Table of Contents\n",
    "\n",
    "- [Introduction](#introduction)\n",
    "- [Features](#features)\n",
    "- [Installation](#installation)"
   ]
  },
  {
   "cell_type": "markdown",
   "metadata": {},
   "source": [
    "## Introduction\n",
    "\n",
    "Welcome to our repository, serving as the foundational codebase for our class project on repository mining and topic modeling for bugs in Software Defined Vehicles. This repository is meticulously organized to facilitate easy access and understanding of our methodologies and datasets. Here's a brief overview of what you'll find inside:\n",
    "\n",
    "- `01_github_miner.ipynb`: Methods for mining issues from software repositories\n",
    "01_topic_modeling.ipynb -> Methods for topic modeling using SentenceBERT\n",
    "\n",
    "- `miner_nb.ipynb`: This is notebook designed to streamline the mining process. It's set up for immediate use, allowing you to execute the mining procedures with ease and precision.\n",
    "- `modeling_nb.ipynb`: This notebook is dedicated to executing the topic modeling process. It also contains the visualization of the embeddings. \n",
    "\n",
    "- `/data/`: This directory contains the mined issues that we used in our project, this a valuable resource for anyone looking to explore real-world data or validate their own mining and modeling techniques."
   ]
  },
  {
   "cell_type": "markdown",
   "metadata": {},
   "source": [
    "## Features\n",
    "\n",
    "- **Robust GitHub Mining**: Leveraging the power of the [GitHub REST API](https://docs.github.com/en/rest/issues?apiVersion=2022-11-28), our tool adeptly mines issues from GitHub repositories. It allows users to define specific search criteria, ensuring targeted and efficient data extraction tailored to your research needs.\n",
    "\n",
    "- **Advanced Topic Modeling**: At the core of our approach is the use of the [Transformers library](https://pypi.org/project/transformers/) from Hugging Face, renowned for its extensive range of pre-trained BERT models. For our topic modeling, we employ the [all-mpnet-base-v2 model](https://huggingface.co/sentence-transformers/all-mpnet-base-v2), a powerful encoder-based transformer known for its accuracy and efficiency in handling complex language data.\n",
    "\n",
    "- **Enhanced Clustering Descriptions with GPT-4**: To add depth and clarity to our analysis, we integrate OpenAI's GPT-4, a cutting-edge decoder-based transformer. This AI model significantly enhances the descriptions of extracted keywords for each topic, providing richer, more insightful interpretations of the data clusters."
   ]
  },
  {
   "cell_type": "markdown",
   "metadata": {},
   "source": [
    "## Installation\n",
    "\n",
    "First, create a virtual environment using nvdeb or conda: \n",
    "\n",
    "### Using venv\n",
    "\n",
    "1. **Create a Virtual Environment**:  \n",
    "   Run the following command to create a virtual environment named `myenv`. This command creates a directory `myenv` in your current directory, which will contain the Python interpreter and libraries for this environment.\n",
    "\n",
    "   ```bash\n",
    "   python -m venv myenv\n",
    "   ```\n",
    "\n",
    "2. **Activate the Virtual Environment**:  \n",
    "   - On Windows, activate the environment with:\n",
    "     ```bash\n",
    "     myenv\\Scripts\\activate\n",
    "     ```\n",
    "   - On macOS and Linux, use:\n",
    "     ```bash\n",
    "     source myenv/bin/activate\n",
    "     ```\n",
    "\n",
    "Once activated, your command line will show the name of the virtual environment, indicating that it is active. In this state, any Python packages you install will be contained within this environment, separate from the global Python installation.\n",
    "\n",
    "Next, you need to setup nbdev, to compile our library and also install the required dependencies: \n",
    "\n",
    "```bash\n",
    "   pip install nbdev\n",
    "```\n",
    "\n",
    "Once installed, execute the following commands: \n",
    "\n",
    "First install project dependencies\n",
    "```bash\n",
    "pip install .\n",
    "```\n",
    "Next, compile and install our library: \n",
    "```bash\n",
    "nbdev_export\n",
    "```\n",
    "```bash\n",
    "pip install .\n",
    "```"
   ]
  }
 ],
 "metadata": {
  "kernelspec": {
   "display_name": "python3",
   "language": "python",
   "name": "python3"
  },
  "language_info": {
   "name": "python",
   "version": "3.10.6"
  }
 },
 "nbformat": 4,
 "nbformat_minor": 4
}
