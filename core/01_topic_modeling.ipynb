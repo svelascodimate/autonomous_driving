{
 "cells": [
  {
   "cell_type": "markdown",
   "metadata": {},
   "source": [
    "## Topic Modeling\n",
    "> Module with methods to perform topic modeling"
   ]
  },
  {
   "cell_type": "code",
   "execution_count": null,
   "metadata": {},
   "outputs": [],
   "source": [
    "#|default_exp modeling"
   ]
  },
  {
   "cell_type": "code",
   "execution_count": null,
   "metadata": {},
   "outputs": [],
   "source": [
    "#| export\n",
    "from sklearn.datasets import fetch_20newsgroups\n",
    "from sentence_transformers import SentenceTransformer\n",
    "from bertopic import BERTopic\n",
    "from umap import UMAP\n",
    "import json\n",
    "\n",
    "import re\n",
    "import string\n",
    "from bs4 import BeautifulSoup\n",
    "from nltk.corpus import stopwords\n",
    "from nltk.tokenize import word_tokenize\n",
    "from nltk.stem import WordNetLemmatizer\n",
    "import nltk\n",
    "import pandas as pd"
   ]
  },
  {
   "cell_type": "code",
   "execution_count": null,
   "metadata": {},
   "outputs": [],
   "source": [
    "#| export\n",
    "from openai import OpenAI\n",
    "from bertopic.backend import OpenAIBackend\n",
    "\n",
    "import tiktoken\n",
    "from bertopic import BERTopic"
   ]
  },
  {
   "cell_type": "code",
   "execution_count": null,
   "metadata": {},
   "outputs": [],
   "source": [
    "#| export\n",
    "def load_data_from_json(filename):\n",
    "    \"\"\"Load data from a JSON file.\"\"\"\n",
    "    with open(filename, 'r', encoding='utf-8') as file:\n",
    "        return json.load(file)"
   ]
  },
  {
   "cell_type": "code",
   "execution_count": null,
   "metadata": {},
   "outputs": [],
   "source": [
    "#| export\n",
    "def remove_stop_words(issue_body):\n",
    "    \"\"\"\n",
    "    Clean the text of a GitHub issue for topic modeling.\n",
    "    \"\"\"\n",
    "    # Remove URLs\n",
    "    issue_body = re.sub(r'http\\S+', ' ', issue_body)\n",
    "\n",
    "    # Remove user mentions\n",
    "    issue_body = re.sub(r'@\\S+', ' ', issue_body)\n",
    "\n",
    "    # Remove special characters and numbers\n",
    "    issue_body = re.sub(r'[^A-Za-z\\s]', ' ', issue_body)\n",
    "\n",
    "    # Tokenize text\n",
    "    tokens = word_tokenize(issue_body)\n",
    "\n",
    "    # Convert to lower case\n",
    "    tokens = [word.lower() for word in tokens]\n",
    "\n",
    "    # Remove punctuation\n",
    "    tokens = [word for word in tokens if word not in string.punctuation]\n",
    "\n",
    "    # Remove stopwords\n",
    "    stop_words = set(stopwords.words('english'))\n",
    "    tokens = [word for word in tokens if word not in stop_words]\n",
    "\n",
    "    # Optional: Lemmatization/Stemming (can be added based on requirement)\n",
    "\n",
    "    # Rejoin tokens into a string\n",
    "    cleaned_text = ' '.join(tokens)\n",
    "\n",
    "    return cleaned_text"
   ]
  },
  {
   "cell_type": "code",
   "execution_count": null,
   "metadata": {},
   "outputs": [],
   "source": [
    "#| export\n",
    "def deep_clean_text(text):\n",
    "    \"\"\"\n",
    "    Clean and curate the text from a GitHub issue for better processing with BERTopic.\n",
    "\n",
    "    Parameters:\n",
    "    issue_body (str): The text content of a GitHub issue.\n",
    "\n",
    "    Returns:\n",
    "    str: Cleaned and curated text.\n",
    "    \"\"\"\n",
    "\n",
    "    # Remove HTML tags using BeautifulSoup\n",
    "    issue_body = BeautifulSoup(text, \"html.parser\").get_text()\n",
    "\n",
    "    # Remove URLs\n",
    "    issue_body = re.sub(r'http\\S+', ' ', issue_body)\n",
    "\n",
    "    # Remove GitHub flavored markdown\n",
    "    issue_body = re.sub(r'```[a-z]*\\n[\\s\\S]*?\\n```', ' ', issue_body)  # Code blocks\n",
    "    issue_body = re.sub(r'`[^`]*`', ' ', issue_body)  # Inline code\n",
    "    issue_body = re.sub(r'\\*\\*[^*]*\\*\\*', ' ', issue_body)  # Bold text\n",
    "    issue_body = re.sub(r'\\*[^*]*\\*', ' ', issue_body)  # Italic text\n",
    "    issue_body = re.sub(r'~~[^~]*~~', ' ', issue_body)  # Strikethrough\n",
    "    issue_body = re.sub(r'\\[[^\\]]*\\]\\([^\\)]*\\)', ' ', issue_body)  # Hyperlinks\n",
    "\n",
    "    return remove_stop_words(issue_body)"
   ]
  },
  {
   "cell_type": "code",
   "execution_count": null,
   "metadata": {},
   "outputs": [],
   "source": [
    "#| export\n",
    "def get_body_from_issues(issues: list):\n",
    "  return [remove_stop_words(issue['body']) for issue in issues if issue['body'] is not None]"
   ]
  },
  {
   "cell_type": "code",
   "execution_count": null,
   "metadata": {},
   "outputs": [],
   "source": [
    "#| export\n",
    "def generate_topic_name(keywords, OPEN_AI_KEY):\n",
    "    #openai.api_key = OPEN_AI_KEY\n",
    "    client = OpenAI(api_key=OPEN_AI_KEY)\n",
    "    response = client.chat.completions.create(model=\"gpt-4\",\n",
    "    messages=[{\"role\": \"user\", \"content\": f\"Generate a short descriptive name for the category of a topic, based on these keywords: {', '.join(keywords)}\"}])\n",
    "    print(response.choices[0].message.content)\n",
    "    return response.choices[0].message.content"
   ]
  }
 ],
 "metadata": {
  "kernelspec": {
   "display_name": "myenv2",
   "language": "python",
   "name": "python3"
  },
  "language_info": {
   "name": "python",
   "version": "3.10.6"
  }
 },
 "nbformat": 4,
 "nbformat_minor": 2
}
